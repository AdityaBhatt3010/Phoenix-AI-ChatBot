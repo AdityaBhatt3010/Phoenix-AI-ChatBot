{
 "cells": [
  {
   "cell_type": "code",
   "execution_count": 1,
   "id": "af426dfd",
   "metadata": {},
   "outputs": [
    {
     "name": "stdout",
     "output_type": "stream",
     "text": [
      "Note: you may need to restart the kernel to use updated packages.\n"
     ]
    },
    {
     "name": "stderr",
     "output_type": "stream",
     "text": [
      "\n",
      "[notice] A new release of pip is available: 25.0.1 -> 25.1.1\n",
      "[notice] To update, run: python.exe -m pip install --upgrade pip\n"
     ]
    }
   ],
   "source": [
    "%pip install -q -r requirements.txt"
   ]
  },
  {
   "cell_type": "code",
   "execution_count": 12,
   "id": "0eff5f79",
   "metadata": {},
   "outputs": [],
   "source": [
    "# Imports and Environment Setup\n",
    "import os\n",
    "from langchain_huggingface import HuggingFaceEndpoint, HuggingFaceEmbeddings\n",
    "from langchain_core.prompts import PromptTemplate\n",
    "from langchain_community.document_loaders import PyPDFLoader, DirectoryLoader\n",
    "from langchain.text_splitter import RecursiveCharacterTextSplitter\n",
    "from langchain.chains import RetrievalQA\n",
    "from langchain_community.vectorstores import FAISS\n",
    "import pypdf\n",
    "\n",
    "from dotenv import load_dotenv, find_dotenv\n",
    "from pyfiglet import figlet_format\n",
    "from termcolor import colored\n",
    "\n",
    "load_dotenv(find_dotenv())\n",
    "#print(\"Token:\", os.environ.get(\"HF_TOKEN\"))\n",
    "\n",
    "HF_TOKEN = os.environ.get(\"HF_TOKEN\")\n",
    "HUGGINGFACE_REPO_ID = \"mistralai/Mistral-7B-Instruct-v0.3\"\n",
    "DB_FAISS_PATH = \"vectorstore/db_faiss\""
   ]
  },
  {
   "cell_type": "code",
   "execution_count": 3,
   "id": "b6b81aad",
   "metadata": {},
   "outputs": [],
   "source": [
    "# Stylish Heading\n",
    "def stylish_heading():\n",
    "    title = figlet_format(\"AI-ChatBot\", font=\"starwars\", width=1000)\n",
    "    print(colored(title, \"green\"))\n",
    "\n",
    "#stylish_heading()"
   ]
  },
  {
   "cell_type": "code",
   "execution_count": 4,
   "id": "021772bf",
   "metadata": {},
   "outputs": [],
   "source": [
    "HUGGINGFACE_REPO_ID=\"mistralai/Mistral-7B-Instruct-v0.3\"\n",
    "\n",
    "def load_llm(huggingface_repo_id):\n",
    "    llm = HuggingFaceEndpoint(\n",
    "        repo_id=huggingface_repo_id,\n",
    "        temperature=0.5,\n",
    "        huggingfacehub_api_token=HF_TOKEN,\n",
    "    )\n",
    "    return llm"
   ]
  },
  {
   "cell_type": "code",
   "execution_count": 5,
   "id": "ebe7d099",
   "metadata": {},
   "outputs": [],
   "source": [
    "CUSTOM_PROMPT_TEMPLATE = \"\"\"\n",
    "Use the pieces of information provided in the context to answer user's question.\n",
    "If you dont know the answer, just say that you dont know, dont try to make up an answer. \n",
    "Dont provide anything out of the given context\n",
    "\n",
    "Context: {context}\n",
    "Question: {question}\n",
    "\n",
    "Start the answer directly. No small talk please.\n",
    "\"\"\"\n",
    "\n",
    "def set_custom_prompt(custom_prompt_template):\n",
    "    prompt=PromptTemplate(template=custom_prompt_template, input_variables=[\"context\", \"question\"])\n",
    "    return prompt\n"
   ]
  },
  {
   "cell_type": "code",
   "execution_count": 6,
   "id": "2d1193f5",
   "metadata": {},
   "outputs": [],
   "source": [
    "DATA_PATH=\"data/\"\n",
    "def load_pdf_files(data):\n",
    "    loader = DirectoryLoader(data,\n",
    "                             glob='*.pdf',\n",
    "                             loader_cls=PyPDFLoader)\n",
    "    \n",
    "    documents=loader.load()\n",
    "    return documents\n",
    "\n",
    "documents=load_pdf_files(data=DATA_PATH)\n",
    "#print(\"Length of PDF pages: \", len(documents))"
   ]
  },
  {
   "cell_type": "code",
   "execution_count": 7,
   "id": "3640d625",
   "metadata": {},
   "outputs": [],
   "source": [
    "def create_chunks(extracted_data):\n",
    "    text_splitter=RecursiveCharacterTextSplitter(chunk_size=500,\n",
    "                                                 chunk_overlap=50)\n",
    "    text_chunks=text_splitter.split_documents(extracted_data)\n",
    "    return text_chunks\n",
    "\n",
    "text_chunks=create_chunks(extracted_data=documents)\n",
    "#print(\"Length of Text Chunks: \", len(text_chunks))"
   ]
  },
  {
   "cell_type": "code",
   "execution_count": 8,
   "id": "82939458",
   "metadata": {},
   "outputs": [],
   "source": [
    "def get_embedding_model():\n",
    "    embedding_model=HuggingFaceEmbeddings(model_name=\"sentence-transformers/all-MiniLM-L6-v2\")\n",
    "    return embedding_model\n",
    "\n",
    "embedding_model=get_embedding_model()"
   ]
  },
  {
   "cell_type": "code",
   "execution_count": 9,
   "id": "d594fea9",
   "metadata": {},
   "outputs": [],
   "source": [
    "DB_FAISS_PATH=\"vectorstore/db_faiss\"\n",
    "db=FAISS.from_documents(text_chunks, embedding_model)\n",
    "db.save_local(DB_FAISS_PATH)"
   ]
  },
  {
   "cell_type": "code",
   "execution_count": 10,
   "id": "d9327da7",
   "metadata": {},
   "outputs": [],
   "source": [
    "DB_FAISS_PATH=\"vectorstore/db_faiss\"\n",
    "embedding_model=HuggingFaceEmbeddings(model_name=\"sentence-transformers/all-MiniLM-L6-v2\")\n",
    "db=FAISS.load_local(DB_FAISS_PATH, embedding_model, allow_dangerous_deserialization=True)"
   ]
  },
  {
   "cell_type": "code",
   "execution_count": 13,
   "id": "83ad2062",
   "metadata": {},
   "outputs": [],
   "source": [
    "qa_chain=RetrievalQA.from_chain_type(\n",
    "    llm=load_llm(HUGGINGFACE_REPO_ID),\n",
    "    chain_type=\"stuff\",\n",
    "    retriever=db.as_retriever(search_kwargs={'k':3}),   # Find Top Number of Searches\n",
    "    return_source_documents=True,\n",
    "    chain_type_kwargs={'prompt':set_custom_prompt(CUSTOM_PROMPT_TEMPLATE)}\n",
    ")"
   ]
  },
  {
   "cell_type": "code",
   "execution_count": 16,
   "id": "91d987bb",
   "metadata": {},
   "outputs": [
    {
     "name": "stdout",
     "output_type": "stream",
     "text": [
      "\u001b[32m     ___       __           ______  __    __       ___   .___________..______     ______   .___________.\n",
      "    /   \\     |  |         /      ||  |  |  |     /   \\  |           ||   _  \\   /  __  \\  |           |\n",
      "   /  ^  \\    |  |  ______|  ,----'|  |__|  |    /  ^  \\ `---|  |----`|  |_)  | |  |  |  | `---|  |----`\n",
      "  /  /_\\  \\   |  | |______|  |     |   __   |   /  /_\\  \\    |  |     |   _  <  |  |  |  |     |  |     \n",
      " /  _____  \\  |  |        |  `----.|  |  |  |  /  _____  \\   |  |     |  |_)  | |  `--'  |     |  |     \n",
      "/__/     \\__\\ |__|         \\______||__|  |__| /__/     \\__\\  |__|     |______/   \\______/      |__|     \n",
      "                                                                                                        \n",
      "\u001b[0m\n",
      "\n",
      "🟢 You can start chatting now. Type 'Exit the Chatbot' to end the session.\n",
      "\n",
      "\n",
      "👤 User: How to cure fever?\n",
      "🤖 Bot: \n",
      "The most effective treatment for a fever is to address its underlying cause, such as through the administration of antibiotics if it's caused by bacteria. If the patient is uncomfortable, drugs to lower fever (antipyretics) like aspirin, acetaminophen (Tylenol), and ibuprofin (Advil) can be given. However, a very high fever in a small child can trigger seizures and should be treated immediately. A fever accompanied by certain symptoms can indicate the presence of a serious infection, such as meningitis, and should be brought to the immediate attention of a physician.\n",
      "\n",
      "\n",
      "👤 User: I have fever. Fix Me🗿\n",
      "🤖 Bot: \n",
      "You should consult a physician immediately, as a fever can indicate the presence of a serious infection. The physician may prescribe antibiotics to address the underlying cause and may also provide you with antipyretics to help lower your fever and make you more comfortable. Common antipyretics include aspirin, acetaminophen (Tylenol), and ibuprofen (Advil).\n",
      "\n",
      "\n",
      "👋 Exiting... Have a great day!\n",
      "\n"
     ]
    }
   ],
   "source": [
    "# Interactive Chat Loop with Heading, User Echo, and Response\n",
    "\n",
    "stylish_heading()  # Show the AI-ChatBot banner before chat starts\n",
    "\n",
    "print(\"\\n🟢 You can start chatting now. Type 'Exit the Chatbot' to end the session.\\n\")\n",
    "\n",
    "while True:\n",
    "    user_query = input(\"🧠 You: \")\n",
    "    user = user_query  # Store user input\n",
    "\n",
    "    if user.strip().lower() == \"exit the chatbot\":\n",
    "        print(\"\\n👋 Exiting... Have a great day!\\n\")\n",
    "        break\n",
    "\n",
    "    print(f\"\\n👤 User: {user}\")  # Print what user just said\n",
    "\n",
    "    try:\n",
    "        response = qa_chain.invoke({'query': user})\n",
    "        print(f\"🤖 Bot: {response['result']}\\n\")\n",
    "    except Exception as e:\n",
    "        print(\"❌ Error while processing:\", e)"
   ]
  }
 ],
 "metadata": {
  "kernelspec": {
   "display_name": "Python 3",
   "language": "python",
   "name": "python3"
  },
  "language_info": {
   "codemirror_mode": {
    "name": "ipython",
    "version": 3
   },
   "file_extension": ".py",
   "mimetype": "text/x-python",
   "name": "python",
   "nbconvert_exporter": "python",
   "pygments_lexer": "ipython3",
   "version": "3.13.2"
  }
 },
 "nbformat": 4,
 "nbformat_minor": 5
}
